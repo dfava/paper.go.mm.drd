{
 "cells": [
  {
   "cell_type": "markdown",
   "metadata": {},
   "source": [
    "# Finding and fixing a mismatch between the Go memory model and data-race detector. \n",
    "## A story on applied formal methods\n",
    "\n",
    "Daniel S. Fava<br/>\n",
    "danielsf@ifi.uio.no<br/>\n",
    "www.danielfava.com\n",
    "\n",
    "https://github.com/dfava/paper.go.mm.drd"
   ]
  },
  {
   "cell_type": "code",
   "execution_count": 1,
   "metadata": {},
   "outputs": [],
   "source": [
    "import re\n",
    "import operator\n",
    "import numpy as np\n",
    "import matplotlib.pyplot as plt\n",
    "import matplotlib.ticker as ticker\n",
    "from matplotlib import rc\n",
    "\n",
    "rc('font',**{'family': 'serif', 'serif': ['Computer Modern'],'size' : 18})\n",
    "rc('text', usetex=True)"
   ]
  },
  {
   "cell_type": "code",
   "execution_count": 2,
   "metadata": {},
   "outputs": [],
   "source": [
    "class Experiment:\n",
    "    def __init__(self, fname, info=None):\n",
    "        assert(type(fname)==str)\n",
    "        assert(info == None or type(info)==dict)\n",
    "        self.fname = fname\n",
    "        self.info = info\n",
    "        self.data = None\n",
    "\n",
    "    def len(self):\n",
    "        return len(self.data['ops'])\n",
    "\n",
    "    def parse(self, verbose=False):\n",
    "        fhandle = open(self.fname, 'r')\n",
    "        lines = fhandle.readlines()\n",
    "        fhandle.close()\n",
    "        s = re.compile('\\S*, ops=(.*), procs=(.*)/(.*), locks=(.*), VC procs=(.*)/(.*), VC locks=(.*)/(.*)')\n",
    "        self.data = {\n",
    "                'name'  : self.fname,\n",
    "                'ops'   : [],\n",
    "                'procs' : { 'active' : [], 'total' : [], 'vc total' : [] }, \n",
    "                'locks' : {                'total' : [], 'vc total' : [] },\n",
    "               }\n",
    "        for lnum, line in enumerate(lines):\n",
    "            m = s.match(line)\n",
    "            if m:\n",
    "                self.data['ops'].append(int(m.group(1)))\n",
    "                self.data['procs']['active'].append(int(m.group(2)))\n",
    "                self.data['procs']['total'].append(int(m.group(3)))           \n",
    "                self.data['locks']['total'].append(int(m.group(4)))\n",
    "                self.data['procs']['vc total'].append(int(m.group(6)))\n",
    "                self.data['locks']['vc total'].append(int(m.group(8)))\n",
    "                continue\n",
    "        if verbose:\n",
    "            max_ = 4\n",
    "            print(self.data['ops'][0:max_])\n",
    "            print(self.data['procs']['vc total'][0:max_])\n",
    "            print(self.data['locks']['vc total'][0:max_])"
   ]
  },
  {
   "cell_type": "code",
   "execution_count": 3,
   "metadata": {},
   "outputs": [
    {
     "name": "stdout",
     "output_type": "stream",
     "text": [
      "[10000, 20000, 30000, 40000]\n",
      "[16, 16, 16, 16]\n",
      "[19, 19, 19, 19]\n",
      "\n",
      "[10000, 20000, 30000, 40000]\n",
      "[16, 16, 16, 16]\n",
      "[17, 17, 17, 17]\n",
      "\n"
     ]
    }
   ],
   "source": [
    "expsFT = [\n",
    "    Experiment('../data/sortnp.ft.out', info={'go' : {'sz' : 10000, 'N' : 40}, 'rd' : None}),\n",
    "    Experiment('../data/sortnp.fix.ft.out',    info={'go' : {'sz' : 10000, 'N' : 40}, 'rd' : None}),\n",
    "        ]\n",
    "for exp in expsFT:\n",
    "    exp.parse(verbose=True)\n",
    "    print()"
   ]
  },
  {
   "cell_type": "code",
   "execution_count": 4,
   "metadata": {},
   "outputs": [
    {
     "name": "stdout",
     "output_type": "stream",
     "text": [
      "['$-0.5$', '$0.0$', '$0.5$', '$1.0$', '$1.5$', '$2.0$', '$2.5$']\n"
     ]
    },
    {
     "data": {
      "image/png": "[encoded data removed]",
      "text/plain": [
       "<Figure size 432x288 with 1 Axes>"
      ]
     },
     "metadata": {
      "needs_background": "light"
     },
     "output_type": "display_data"
    }
   ],
   "source": [
    "start=0\n",
    "end=min(len(expsFT[0].data['ops']), len(expsFT[1].data['ops']))\n",
    "fig, ax = plt.subplots()\n",
    "\n",
    "ax.plot(expsFT[0].data['ops'][start:end], expsFT[0].data['locks']['vc total'][start:end], color='black')\n",
    "ax.plot(expsFT[1].data['ops'][start:end], expsFT[1].data['locks']['vc total'][start:end], linestyle='--', color='black')\n",
    "ax.set_ylabel('VC entries')\n",
    "ax.set_xlabel('Instructions executed')\n",
    "ax.grid()\n",
    "fig.canvas.draw()\n",
    "labels = [item.get_text() for item in ax.get_xticklabels()]\n",
    "print(labels)\n",
    "xlabels = ['', '0', '5M', '10M', '15M', '20M']\n",
    "_ = ax.set_xticklabels(xlabels)\n",
    "ylabels = ['', '0', '2K', '4K', '6K', '8K', '10K']\n",
    "_ = ax.set_yticklabels(ylabels)\n",
    "plt.savefig(\"vcentries.pdf\", bbox_inches='tight')"
   ]
  }
 ],
 "metadata": {
  "kernelspec": {
   "display_name": "Python 3",
   "language": "python",
   "name": "python3"
  },
  "language_info": {
   "codemirror_mode": {
    "name": "ipython",
    "version": 3
   },
   "file_extension": ".py",
   "mimetype": "text/x-python",
   "name": "python",
   "nbconvert_exporter": "python",
   "pygments_lexer": "ipython3",
   "version": "3.7.7"
  }
 },
 "nbformat": 4,
 "nbformat_minor": 4
}
